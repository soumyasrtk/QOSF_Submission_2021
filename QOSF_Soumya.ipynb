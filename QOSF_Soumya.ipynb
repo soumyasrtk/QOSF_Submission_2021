{
 "cells": [
  {
   "cell_type": "markdown",
   "id": "1788ce03-0d44-4897-92aa-b630202a180d",
   "metadata": {},
   "source": [
    "Author: Soumya Sanjay Kumar"
   ]
  },
  {
   "cell_type": "code",
   "execution_count": 1,
   "id": "8705de98-b32b-454c-9bd0-033acccb2326",
   "metadata": {},
   "outputs": [],
   "source": [
    "import numpy as np\n",
    "import re\n",
    "import qiskit\n",
    "\n",
    "# Importing standard Qiskit libraries\n",
    "from qiskit.extensions import UnitaryGate\n",
    "from qiskit import QuantumRegister, ClassicalRegister, QuantumCircuit, transpile, assemble, Aer, IBMQ, execute\n",
    "from qiskit.quantum_info import Statevector\n",
    "from qiskit.quantum_info.operators import Operator\n",
    "from qiskit.visualization import plot_bloch_multivector, plot_histogram\n",
    "from qiskit.providers.aer import AerSimulator\n",
    "from math import pi"
   ]
  },
  {
   "cell_type": "code",
   "execution_count": 2,
   "id": "1901d378-e66b-4680-8a8d-3c7155d599a9",
   "metadata": {},
   "outputs": [
    {
     "name": "stderr",
     "output_type": "stream",
     "text": [
      "/home/soumyassk/anaconda3/lib/python3.8/site-packages/qiskit/aqua/__init__.py:86: DeprecationWarning: The package qiskit.aqua is deprecated. It was moved/refactored to qiskit-terra For more information see <https://github.com/Qiskit/qiskit-aqua/blob/main/README.md#migration-guide>\n",
      "  warn_package('aqua', 'qiskit-terra')\n"
     ]
    },
    {
     "data": {
      "text/html": [
       "<h3>Version Information</h3><table><tr><th>Qiskit Software</th><th>Version</th></tr><tr><td><code>qiskit-terra</code></td><td>0.18.2</td></tr><tr><td><code>qiskit-aer</code></td><td>0.9.0</td></tr><tr><td><code>qiskit-ignis</code></td><td>0.6.0</td></tr><tr><td><code>qiskit-ibmq-provider</code></td><td>0.16.0</td></tr><tr><td><code>qiskit-aqua</code></td><td>0.9.5</td></tr><tr><td><code>qiskit</code></td><td>0.30.0</td></tr><tr><th>System information</th></tr><tr><td>Python</td><td>3.8.8 (default, Apr 13 2021, 19:58:26) \n",
       "[GCC 7.3.0]</td></tr><tr><td>OS</td><td>Linux</td></tr><tr><td>CPUs</td><td>4</td></tr><tr><td>Memory (Gb)</td><td>6.105949401855469</td></tr><tr><td colspan='2'>Wed Sep 29 23:31:13 2021 +0530</td></tr></table>"
      ],
      "text/plain": [
       "<IPython.core.display.HTML object>"
      ]
     },
     "metadata": {},
     "output_type": "display_data"
    }
   ],
   "source": [
    "import qiskit.tools.jupyter\n",
    "%qiskit_version_table"
   ]
  },
  {
   "cell_type": "code",
   "execution_count": 3,
   "id": "19b80a8f-bb7d-4381-9e2b-2019860515b1",
   "metadata": {},
   "outputs": [],
   "source": [
    "def create_circuit(qasm_str):\n",
    "    gate_list = []\n",
    "    reg_list = []\n",
    "    reg_names = []\n",
    "\n",
    "    gate_idxs = []\n",
    "    reg_idxs = []\n",
    "    measure_qub_name=[]\n",
    "    measure_clas_name=[]\n",
    "    measure_idxs=[]\n",
    "    for line in qasm_str.strip().split(\"\\n\")[2:]:\n",
    "        if \"->\" and \"measure\" not in line:\n",
    "            idxs = re.findall(r'\\[(\\d+)\\]', line)\n",
    "            idxs = list(map(int, idxs))\n",
    "\n",
    "            gatereg = line.split()[0]\n",
    "    #         print(gatereg)\n",
    "\n",
    "            # Registers\n",
    "            if gatereg in [\"qreg\",\"creg\"]:\n",
    "                regtype = gatereg\n",
    "                reg_list.append(regtype)\n",
    "                reg_idxs.append(idxs)\n",
    "                reg_name = line.split(regtype)[1].strip().split(\"[\")[0]\n",
    "                reg_names.append(reg_name)\n",
    "    #             print(f\"{line} -------- {reg_name}\")\n",
    "\n",
    "            # Gates\n",
    "            else:\n",
    "                gatetype = gatereg\n",
    "                gate_list.append(gatetype)\n",
    "                gate_idxs.append(idxs)\n",
    "    #         print(line)\n",
    "    #         print(f\"Gate {gate}, idxs {idxs}\")\n",
    "        # Registers\n",
    "        else:\n",
    "            idxs_m = re.findall(r'\\[(\\d+)\\]', line)\n",
    "            idxs_m=list(map(int, idxs_m))\n",
    "            mea_qub=line.split()[1].strip().split(\"[\")[0]\n",
    "            mea_cla=line.split()[3].strip().split(\"[\")[0]\n",
    "            measure_qub_name.append(mea_qub)\n",
    "            measure_clas_name.append(mea_cla)\n",
    "            measure_idxs.append(idxs_m)\n",
    "\n",
    "            \n",
    "        quant_reg=[]\n",
    "        clas_reg=[]\n",
    "        for j, reg in enumerate(reg_list):\n",
    "            if reg=='qreg':\n",
    "                quant_reg.append(QuantumRegister(*reg_idxs[j], reg_names[j]))\n",
    "            if reg=='creg':\n",
    "                clas_reg=ClassicalRegister(*reg_idxs[j], reg_names[j])\n",
    "        circuit_built=QuantumCircuit(*quant_reg, clas_reg)\n",
    "        for i, elm in enumerate(gate_list):\n",
    "            if elm == 'x':\n",
    "                circuit_built.x(*gate_idxs[i])\n",
    "            elif elm == 'y':\n",
    "                circuit_built.y(*gate_idxs[i])\n",
    "            elif elm == 'z':\n",
    "                circuit_built.z(*gate_idxs[i])\n",
    "            elif elm == 'h':\n",
    "                circuit_built.h(*gate_idxs[i])\n",
    "            elif elm == 's':\n",
    "                circuit_built.s(*gate_idxs[i])\n",
    "            elif elm == 't':\n",
    "                circuit_built.t(*gate_idxs[i])\n",
    "            elif elm == 'sdg':\n",
    "                circuit_built.sdg(*gate_idxs[i])\n",
    "            elif elm == 'tdg':\n",
    "                circuit_built.tdg(*gate_idxs[i])\n",
    "            elif elm == 'cx':\n",
    "                circuit_built.cx(*gate_idxs[i])\n",
    "            elif elm == 'ccx':\n",
    "                circuit_built.ccx(*gate_idxs[i])\n",
    "            elif elm == 'swap':\n",
    "                circuit_built.swap(*gate_idxs[i])\n",
    "            elif elm == 'cswap':\n",
    "                circuit_built.cswap(*gate_idxs[i])\n",
    "            elif elm[:2] == 'rx':\n",
    "                phase_str=re.findall('\\((.*?)\\)', elm)\n",
    "                if \"pi\" in elm:\n",
    "                    reduced_str = phase_str.replace('pi', '1')\n",
    "                    multiplier = eval(reduced_str)\n",
    "                    phase=multiplier*pi\n",
    "                else:\n",
    "                    phase=float(*phase_str)\n",
    "                circuit_built.rx(phase, *gate_idxs[i])\n",
    "            elif elm[:2] == 'ry':\n",
    "                phase_str=re.findall('\\((.*?)\\)', elm)\n",
    "                if \"pi\" in elm:\n",
    "                    reduced_str = phase_str.replace('pi', '1')\n",
    "                    multiplier = eval(reduced_str)\n",
    "                    phase=multiplier*pi\n",
    "                else:\n",
    "                    phase=float(*phase_str)\n",
    "                circuit_built.ry(phase, *gate_idxs[i])\n",
    "            elif elm[:2] == 'rz':\n",
    "                phase_str=re.findall('\\((.*?)\\)', elm)\n",
    "                if \"pi\" in elm:\n",
    "                    reduced_str = phase_str.replace('pi', '1')\n",
    "                    multiplier = eval(reduced_str)\n",
    "                    phase=multiplier*pi\n",
    "                else:\n",
    "                    phase=float(*phase_str)\n",
    "                circuit_built.rz(phase, *gate_idxs[i])\n",
    "            elif elm[:2] == 'u2':\n",
    "                temp_str = 'u2(-pi,-pi)'\n",
    "                qasm_args = re.findall('\\((.*?)\\)', temp_str)[0].split(\",\")\n",
    "                qiskit_args = []\n",
    "                for arg in qasm_args:\n",
    "                    if \"pi\" in arg:\n",
    "                        reduced_str = arg.replace('pi', '1')\n",
    "                        multiplier = eval(reduced_str)\n",
    "                        phase=multiplier*pi\n",
    "                    else:\n",
    "                        phase=float(*phase_str)\n",
    "                    qiskit_args.append(phase)\n",
    "                circuit_built.u2(*qiskit_args, *gate_idxs[i])\n",
    "    return circuit_built"
   ]
  },
  {
   "cell_type": "code",
   "execution_count": 4,
   "id": "3222066d-a4c0-4b5b-bcf3-c8be7fc23189",
   "metadata": {},
   "outputs": [],
   "source": [
    "def get_conjugate_circuit(qasm_str, return_decomposition=False):\n",
    "    print(\"Warning: This will not work for circuits having classical registers.\")\n",
    "    original_circuit = create_circuit(qasm_str)\n",
    "    U=UnitaryGate(Operator(original_circuit).transpose().conjugate()).to_matrix() \n",
    "    conjugate_circuit=QuantumCircuit(len(original_circuit.qubits))\n",
    "    conjugate_circuit.unitary(U, original_circuit.qubits)\n",
    "    if return_decomposition:\n",
    "        print('''This might take some time. It will return the decomposition of the conjugate circuit,\n",
    "        but might not be the simplest decomposition.''')\n",
    "        conjugate_circuit = transpile(conjugate_circuit, basis_gates=['u3','cx', 'x', 'h'])\n",
    "    return conjugate_circuit"
   ]
  },
  {
   "cell_type": "markdown",
   "id": "c11d34de-3ef5-459c-a0ee-6f75f13ff85f",
   "metadata": {},
   "source": [
    "## Circuit Creation Example 1"
   ]
  },
  {
   "cell_type": "code",
   "execution_count": 5,
   "id": "a2e79018-c145-490d-925b-46c9f9493b81",
   "metadata": {},
   "outputs": [
    {
     "data": {
      "text/html": [
       "<pre style=\"word-wrap: normal;white-space: pre;background: #fff0;line-height: 1.1;font-family: &quot;Courier New&quot;,Courier,monospace\">     ┌─────────┐          \n",
       "q_0: ┤ Rz(0.2) ├───────■──\n",
       "     └─────────┘       │  \n",
       "q_1: ─────────────■────┼──\n",
       "                  │    │  \n",
       "q_2: ─────────────■────┼──\n",
       "     ┌─────────┐  │  ┌─┴─┐\n",
       "q_3: ┤ Rx(0.2) ├──┼──┤ X ├\n",
       "     └─────────┘┌─┴─┐└───┘\n",
       "q_4: ───────────┤ X ├─────\n",
       "                └───┘     \n",
       "q_5: ─────────────────────\n",
       "        ┌───┐   ┌───┐     \n",
       "q_6: ───┤ X ├───┤ H ├─────\n",
       "        └───┘   └───┘     </pre>"
      ],
      "text/plain": [
       "     ┌─────────┐          \n",
       "q_0: ┤ Rz(0.2) ├───────■──\n",
       "     └─────────┘       │  \n",
       "q_1: ─────────────■────┼──\n",
       "                  │    │  \n",
       "q_2: ─────────────■────┼──\n",
       "     ┌─────────┐  │  ┌─┴─┐\n",
       "q_3: ┤ Rx(0.2) ├──┼──┤ X ├\n",
       "     └─────────┘┌─┴─┐└───┘\n",
       "q_4: ───────────┤ X ├─────\n",
       "                └───┘     \n",
       "q_5: ─────────────────────\n",
       "        ┌───┐   ┌───┐     \n",
       "q_6: ───┤ X ├───┤ H ├─────\n",
       "        └───┘   └───┘     "
      ]
     },
     "execution_count": 5,
     "metadata": {},
     "output_type": "execute_result"
    }
   ],
   "source": [
    "nt=6\n",
    "qr=QuantumRegister(nt+1, 'q')\n",
    "testcircuit = QuantumCircuit(qr)\n",
    "testcircuit.x(nt)\n",
    "testcircuit.h(nt)\n",
    "testcircuit.rx(0.2, 3)\n",
    "testcircuit.rz(0.2, 0)\n",
    "testcircuit.cx(0,3)\n",
    "testcircuit.ccx(1,2,4)\n",
    "testcircuit.draw()    "
   ]
  },
  {
   "cell_type": "code",
   "execution_count": 6,
   "id": "b5c37ba7-967f-4571-bc1c-df53c67cca5a",
   "metadata": {},
   "outputs": [],
   "source": [
    "# simulator=AerSimulator()\n",
    "# testcircuit=transpile(testcircuit, simulator)\n",
    "# results=simulator.run(testcircuit).result()\n",
    "# counts = results.get_counts(testcircuit)\n",
    "# plot_histogram(counts, title=\"test circuit counts\")"
   ]
  },
  {
   "cell_type": "code",
   "execution_count": 7,
   "id": "f1047bfb-d808-4dc6-b1b4-8f2a08504e88",
   "metadata": {},
   "outputs": [
    {
     "name": "stdout",
     "output_type": "stream",
     "text": [
      "OPENQASM 2.0;\n",
      "include \"qelib1.inc\";\n",
      "qreg q[7];\n",
      "x q[6];\n",
      "h q[6];\n",
      "rx(0.2) q[3];\n",
      "rz(0.2) q[0];\n",
      "cx q[0],q[3];\n",
      "ccx q[1],q[2],q[4];\n",
      "\n"
     ]
    }
   ],
   "source": [
    "print(testcircuit.qasm())"
   ]
  },
  {
   "cell_type": "code",
   "execution_count": 8,
   "id": "636f9966-2c1f-4c5d-971a-1bfce4edd988",
   "metadata": {},
   "outputs": [],
   "source": [
    "example_qasmstr = testcircuit.qasm()"
   ]
  },
  {
   "cell_type": "code",
   "execution_count": 9,
   "id": "a77d02fa-c045-4f4b-bdaf-f67c09930fe1",
   "metadata": {},
   "outputs": [
    {
     "name": "stdout",
     "output_type": "stream",
     "text": [
      "The original circuit is:\n"
     ]
    },
    {
     "data": {
      "text/html": [
       "<pre style=\"word-wrap: normal;white-space: pre;background: #fff0;line-height: 1.1;font-family: &quot;Courier New&quot;,Courier,monospace\">     ┌─────────┐          \n",
       "q_0: ┤ Rz(0.2) ├───────■──\n",
       "     └─────────┘       │  \n",
       "q_1: ─────────────■────┼──\n",
       "                  │    │  \n",
       "q_2: ─────────────■────┼──\n",
       "     ┌─────────┐  │  ┌─┴─┐\n",
       "q_3: ┤ Rx(0.2) ├──┼──┤ X ├\n",
       "     └─────────┘┌─┴─┐└───┘\n",
       "q_4: ───────────┤ X ├─────\n",
       "                └───┘     \n",
       "q_5: ─────────────────────\n",
       "        ┌───┐   ┌───┐     \n",
       "q_6: ───┤ X ├───┤ H ├─────\n",
       "        └───┘   └───┘     </pre>"
      ],
      "text/plain": [
       "     ┌─────────┐          \n",
       "q_0: ┤ Rz(0.2) ├───────■──\n",
       "     └─────────┘       │  \n",
       "q_1: ─────────────■────┼──\n",
       "                  │    │  \n",
       "q_2: ─────────────■────┼──\n",
       "     ┌─────────┐  │  ┌─┴─┐\n",
       "q_3: ┤ Rx(0.2) ├──┼──┤ X ├\n",
       "     └─────────┘┌─┴─┐└───┘\n",
       "q_4: ───────────┤ X ├─────\n",
       "                └───┘     \n",
       "q_5: ─────────────────────\n",
       "        ┌───┐   ┌───┐     \n",
       "q_6: ───┤ X ├───┤ H ├─────\n",
       "        └───┘   └───┘     "
      ]
     },
     "execution_count": 9,
     "metadata": {},
     "output_type": "execute_result"
    }
   ],
   "source": [
    "print(\"The original circuit is:\")\n",
    "\n",
    "testcircuit.draw()"
   ]
  },
  {
   "cell_type": "code",
   "execution_count": 10,
   "id": "2c7dbe31-e950-4992-9913-6645cbb86f88",
   "metadata": {},
   "outputs": [
    {
     "name": "stdout",
     "output_type": "stream",
     "text": [
      "The circuit obtained from my function is:\n"
     ]
    },
    {
     "data": {
      "text/html": [
       "<pre style=\"word-wrap: normal;white-space: pre;background: #fff0;line-height: 1.1;font-family: &quot;Courier New&quot;,Courier,monospace\">     ┌─────────┐          \n",
       "q_0: ┤ Rz(0.2) ├───────■──\n",
       "     └─────────┘       │  \n",
       "q_1: ─────────────■────┼──\n",
       "                  │    │  \n",
       "q_2: ─────────────■────┼──\n",
       "     ┌─────────┐  │  ┌─┴─┐\n",
       "q_3: ┤ Rx(0.2) ├──┼──┤ X ├\n",
       "     └─────────┘┌─┴─┐└───┘\n",
       "q_4: ───────────┤ X ├─────\n",
       "                └───┘     \n",
       "q_5: ─────────────────────\n",
       "        ┌───┐   ┌───┐     \n",
       "q_6: ───┤ X ├───┤ H ├─────\n",
       "        └───┘   └───┘     </pre>"
      ],
      "text/plain": [
       "     ┌─────────┐          \n",
       "q_0: ┤ Rz(0.2) ├───────■──\n",
       "     └─────────┘       │  \n",
       "q_1: ─────────────■────┼──\n",
       "                  │    │  \n",
       "q_2: ─────────────■────┼──\n",
       "     ┌─────────┐  │  ┌─┴─┐\n",
       "q_3: ┤ Rx(0.2) ├──┼──┤ X ├\n",
       "     └─────────┘┌─┴─┐└───┘\n",
       "q_4: ───────────┤ X ├─────\n",
       "                └───┘     \n",
       "q_5: ─────────────────────\n",
       "        ┌───┐   ┌───┐     \n",
       "q_6: ───┤ X ├───┤ H ├─────\n",
       "        └───┘   └───┘     "
      ]
     },
     "execution_count": 10,
     "metadata": {},
     "output_type": "execute_result"
    }
   ],
   "source": [
    "print(\"The circuit obtained from my function is:\")\n",
    "create_circuit(example_qasmstr).draw()"
   ]
  },
  {
   "cell_type": "markdown",
   "id": "5f5f0ac5-5228-4488-8b4d-cda4a09c6be0",
   "metadata": {},
   "source": [
    "As we see, they're the same."
   ]
  },
  {
   "cell_type": "markdown",
   "id": "04e42fc4-5b69-4727-ba53-fe31eae2fc66",
   "metadata": {},
   "source": [
    "Let's now find the conjugate"
   ]
  },
  {
   "cell_type": "code",
   "execution_count": 41,
   "id": "9a9b7d92-613a-49cd-820a-2aaeb0c951d9",
   "metadata": {},
   "outputs": [],
   "source": [
    "original_matrix = Operator(create_circuit(example_qasmstr))"
   ]
  },
  {
   "cell_type": "code",
   "execution_count": 44,
   "id": "9f8cb44d-508b-40e5-8e66-53ad70858931",
   "metadata": {},
   "outputs": [
    {
     "name": "stdout",
     "output_type": "stream",
     "text": [
      "Warning: This will not work for circuits having classical registers.\n"
     ]
    }
   ],
   "source": [
    "conj_matrix = Operator(get_conjugate_circuit(example_qasmstr))"
   ]
  },
  {
   "cell_type": "code",
   "execution_count": 45,
   "id": "6c56c88d-fa71-4e40-913d-742c0c3da343",
   "metadata": {},
   "outputs": [
    {
     "data": {
      "text/plain": [
       "Operator([[0.+0.j, 0.+0.j, 0.-1.j, 0.+0.j, 0.+0.j, 0.+0.j, 0.+0.j, 0.+0.j],\n",
       "          [0.+0.j, 0.+0.j, 0.+0.j, 0.+0.j, 0.+0.j, 0.+0.j, 0.+0.j, 0.-1.j],\n",
       "          [0.+1.j, 0.+0.j, 0.+0.j, 0.+0.j, 0.+0.j, 0.+0.j, 0.+0.j, 0.+0.j],\n",
       "          [0.+0.j, 0.+0.j, 0.+0.j, 0.+0.j, 0.+0.j, 0.+1.j, 0.+0.j, 0.+0.j],\n",
       "          [0.+0.j, 0.+0.j, 0.+0.j, 0.+0.j, 0.+0.j, 0.+0.j, 0.-1.j, 0.+0.j],\n",
       "          [0.+0.j, 0.+0.j, 0.+0.j, 0.+0.j, 0.+1.j, 0.+0.j, 0.+0.j, 0.+0.j],\n",
       "          [0.+0.j, 0.+0.j, 0.+0.j, 0.-1.j, 0.+0.j, 0.+0.j, 0.+0.j, 0.+0.j],\n",
       "          [0.+0.j, 0.+1.j, 0.+0.j, 0.+0.j, 0.+0.j, 0.+0.j, 0.+0.j, 0.+0.j]],\n",
       "         input_dims=(2, 2, 2), output_dims=(2, 2, 2))"
      ]
     },
     "execution_count": 45,
     "metadata": {},
     "output_type": "execute_result"
    }
   ],
   "source": [
    "conj_matrix"
   ]
  },
  {
   "cell_type": "markdown",
   "id": "2517b056-1278-47fd-b902-949234ce2c09",
   "metadata": {},
   "source": [
    "Let's multiply the two matrices."
   ]
  },
  {
   "cell_type": "code",
   "execution_count": 47,
   "id": "d9eec472-c41c-4cce-9b51-2836748db2d9",
   "metadata": {},
   "outputs": [
    {
     "data": {
      "text/plain": [
       "Operator([[1.+0.j, 0.+0.j, 0.+0.j, 0.+0.j, 0.+0.j, 0.+0.j, 0.+0.j, 0.+0.j],\n",
       "          [0.+0.j, 1.+0.j, 0.+0.j, 0.+0.j, 0.+0.j, 0.+0.j, 0.+0.j, 0.+0.j],\n",
       "          [0.+0.j, 0.+0.j, 1.+0.j, 0.+0.j, 0.+0.j, 0.+0.j, 0.+0.j, 0.+0.j],\n",
       "          [0.+0.j, 0.+0.j, 0.+0.j, 1.+0.j, 0.+0.j, 0.+0.j, 0.+0.j, 0.+0.j],\n",
       "          [0.+0.j, 0.+0.j, 0.+0.j, 0.+0.j, 1.+0.j, 0.+0.j, 0.+0.j, 0.+0.j],\n",
       "          [0.+0.j, 0.+0.j, 0.+0.j, 0.+0.j, 0.+0.j, 1.+0.j, 0.+0.j, 0.+0.j],\n",
       "          [0.+0.j, 0.+0.j, 0.+0.j, 0.+0.j, 0.+0.j, 0.+0.j, 1.+0.j, 0.+0.j],\n",
       "          [0.+0.j, 0.+0.j, 0.+0.j, 0.+0.j, 0.+0.j, 0.+0.j, 0.+0.j, 1.+0.j]],\n",
       "         input_dims=(2, 2, 2), output_dims=(2, 2, 2))"
      ]
     },
     "execution_count": 47,
     "metadata": {},
     "output_type": "execute_result"
    }
   ],
   "source": [
    "original_matrix*conj_matrix"
   ]
  },
  {
   "cell_type": "markdown",
   "id": "05ec404c-626b-4f2e-bae2-233fc02c8383",
   "metadata": {},
   "source": [
    "We see that it's an identity matrix"
   ]
  },
  {
   "cell_type": "markdown",
   "id": "9fa03204-b276-4757-b159-85bf37c8a66e",
   "metadata": {},
   "source": [
    "One last thing, let's see the diagram of the conjugate circuit"
   ]
  },
  {
   "cell_type": "code",
   "execution_count": 49,
   "id": "77440741-8c5d-4dcf-80e1-cd3241fc221d",
   "metadata": {},
   "outputs": [
    {
     "name": "stdout",
     "output_type": "stream",
     "text": [
      "Warning: This will not work for circuits having classical registers.\n"
     ]
    },
    {
     "data": {
      "text/html": [
       "<pre style=\"word-wrap: normal;white-space: pre;background: #fff0;line-height: 1.1;font-family: &quot;Courier New&quot;,Courier,monospace\">     ┌──────────┐\n",
       "q_0: ┤0         ├\n",
       "     │          │\n",
       "q_1: ┤1 Unitary ├\n",
       "     │          │\n",
       "q_2: ┤2         ├\n",
       "     └──────────┘</pre>"
      ],
      "text/plain": [
       "     ┌──────────┐\n",
       "q_0: ┤0         ├\n",
       "     │          │\n",
       "q_1: ┤1 Unitary ├\n",
       "     │          │\n",
       "q_2: ┤2         ├\n",
       "     └──────────┘"
      ]
     },
     "execution_count": 49,
     "metadata": {},
     "output_type": "execute_result"
    }
   ],
   "source": [
    "get_conjugate_circuit(example_qasmstr).draw()"
   ]
  },
  {
   "cell_type": "markdown",
   "id": "8720437a-9a6f-4985-b016-8cd5844f976c",
   "metadata": {},
   "source": [
    "We can decompose this using \"return_decomposition=True\", but, it's not recommended as it takes a lot of time, and is not the most ideal solution."
   ]
  },
  {
   "cell_type": "code",
   "execution_count": 50,
   "id": "7e54a6da-787c-4e99-9ea4-c110dff9bc7d",
   "metadata": {},
   "outputs": [],
   "source": [
    "# get_conjugate_circuit(example_qasmstr,return_decomposition=False).draw()"
   ]
  },
  {
   "cell_type": "markdown",
   "id": "20b17bf2-60cd-4f08-a3c3-ba4865a1bab6",
   "metadata": {},
   "source": [
    "## Circuit Creation Example 2"
   ]
  },
  {
   "cell_type": "code",
   "execution_count": 51,
   "id": "571ab8e7-a043-45c9-b199-bb8d573f04a6",
   "metadata": {},
   "outputs": [
    {
     "data": {
      "text/html": [
       "<pre style=\"word-wrap: normal;white-space: pre;background: #fff0;line-height: 1.1;font-family: &quot;Courier New&quot;,Courier,monospace\">     ┌───┐┌───┐\n",
       "q_0: ┤ T ├┤ X ├\n",
       "     ├───┤└─┬─┘\n",
       "q_1: ┤ Y ├──■──\n",
       "     └───┘     </pre>"
      ],
      "text/plain": [
       "     ┌───┐┌───┐\n",
       "q_0: ┤ T ├┤ X ├\n",
       "     ├───┤└─┬─┘\n",
       "q_1: ┤ Y ├──■──\n",
       "     └───┘     "
      ]
     },
     "execution_count": 51,
     "metadata": {},
     "output_type": "execute_result"
    }
   ],
   "source": [
    "from qiskit.circuit.random import random_circuit\n",
    "\n",
    "circ = random_circuit(2, 2, seed=520)\n",
    "circ.draw()"
   ]
  },
  {
   "cell_type": "code",
   "execution_count": 52,
   "id": "cc88f280-6abe-459e-bde4-96f6b3dd2582",
   "metadata": {},
   "outputs": [
    {
     "name": "stdout",
     "output_type": "stream",
     "text": [
      "OPENQASM 2.0;\n",
      "include \"qelib1.inc\";\n",
      "qreg q[2];\n",
      "t q[0];\n",
      "y q[1];\n",
      "cx q[1],q[0];\n",
      "\n"
     ]
    }
   ],
   "source": [
    "print(circ.qasm())"
   ]
  },
  {
   "cell_type": "code",
   "execution_count": 53,
   "id": "9c2b6db3-d98a-4430-bab6-3bb36f6a4d6c",
   "metadata": {},
   "outputs": [],
   "source": [
    "example_qasmstr2 = circ.qasm()"
   ]
  },
  {
   "cell_type": "code",
   "execution_count": 54,
   "id": "f838c7eb-52e1-4c61-98ab-741f3c091b5a",
   "metadata": {},
   "outputs": [
    {
     "name": "stdout",
     "output_type": "stream",
     "text": [
      "The original circuit is:\n"
     ]
    },
    {
     "data": {
      "text/html": [
       "<pre style=\"word-wrap: normal;white-space: pre;background: #fff0;line-height: 1.1;font-family: &quot;Courier New&quot;,Courier,monospace\">     ┌───┐┌───┐\n",
       "q_0: ┤ T ├┤ X ├\n",
       "     ├───┤└─┬─┘\n",
       "q_1: ┤ Y ├──■──\n",
       "     └───┘     </pre>"
      ],
      "text/plain": [
       "     ┌───┐┌───┐\n",
       "q_0: ┤ T ├┤ X ├\n",
       "     ├───┤└─┬─┘\n",
       "q_1: ┤ Y ├──■──\n",
       "     └───┘     "
      ]
     },
     "execution_count": 54,
     "metadata": {},
     "output_type": "execute_result"
    }
   ],
   "source": [
    "print(\"The original circuit is:\")\n",
    "\n",
    "circ.draw()"
   ]
  },
  {
   "cell_type": "code",
   "execution_count": 55,
   "id": "a9c7efff-ead6-4fe9-9592-a516598c0153",
   "metadata": {},
   "outputs": [
    {
     "name": "stdout",
     "output_type": "stream",
     "text": [
      "The circuit obtained from my function is:\n"
     ]
    },
    {
     "data": {
      "text/html": [
       "<pre style=\"word-wrap: normal;white-space: pre;background: #fff0;line-height: 1.1;font-family: &quot;Courier New&quot;,Courier,monospace\">     ┌───┐┌───┐\n",
       "q_0: ┤ T ├┤ X ├\n",
       "     ├───┤└─┬─┘\n",
       "q_1: ┤ Y ├──■──\n",
       "     └───┘     </pre>"
      ],
      "text/plain": [
       "     ┌───┐┌───┐\n",
       "q_0: ┤ T ├┤ X ├\n",
       "     ├───┤└─┬─┘\n",
       "q_1: ┤ Y ├──■──\n",
       "     └───┘     "
      ]
     },
     "execution_count": 55,
     "metadata": {},
     "output_type": "execute_result"
    }
   ],
   "source": [
    "print(\"The circuit obtained from my function is:\")\n",
    "create_circuit(example_qasmstr2).draw()"
   ]
  },
  {
   "cell_type": "markdown",
   "id": "ad26828f-7d71-4393-8561-e745b4c558d9",
   "metadata": {},
   "source": [
    "As we see, they're the same."
   ]
  },
  {
   "cell_type": "markdown",
   "id": "4ecbd200-c223-44ad-bef3-9d4bea080cf7",
   "metadata": {},
   "source": [
    "Let's now find the conjugate"
   ]
  },
  {
   "cell_type": "code",
   "execution_count": 56,
   "id": "bb9f57e4-15b4-47f6-84b0-bf25877bdc31",
   "metadata": {},
   "outputs": [],
   "source": [
    "original_matrix = Operator(create_circuit(example_qasmstr2))"
   ]
  },
  {
   "cell_type": "code",
   "execution_count": 57,
   "id": "40908421-5208-4528-b8fc-f67dc07aff03",
   "metadata": {},
   "outputs": [
    {
     "name": "stdout",
     "output_type": "stream",
     "text": [
      "Warning: This will not work for circuits having classical registers.\n"
     ]
    }
   ],
   "source": [
    "conj_matrix = Operator(get_conjugate_circuit(example_qasmstr2))"
   ]
  },
  {
   "cell_type": "code",
   "execution_count": 58,
   "id": "95c1117d-3e60-462a-ae25-d4ef9e2cf812",
   "metadata": {},
   "outputs": [
    {
     "data": {
      "text/plain": [
       "Operator([[ 0.        +0.j        ,  0.        +0.j        ,\n",
       "            0.        +0.j        ,  0.        -1.j        ],\n",
       "          [ 0.        +0.j        ,  0.        +0.j        ,\n",
       "           -0.70710678-0.70710678j,  0.        +0.j        ],\n",
       "          [ 0.        +1.j        ,  0.        +0.j        ,\n",
       "            0.        +0.j        ,  0.        +0.j        ],\n",
       "          [ 0.        +0.j        ,  0.70710678+0.70710678j,\n",
       "            0.        +0.j        ,  0.        +0.j        ]],\n",
       "         input_dims=(2, 2), output_dims=(2, 2))"
      ]
     },
     "execution_count": 58,
     "metadata": {},
     "output_type": "execute_result"
    }
   ],
   "source": [
    "conj_matrix"
   ]
  },
  {
   "cell_type": "markdown",
   "id": "5dcd259e-72c9-45bd-8c13-ce0745692595",
   "metadata": {},
   "source": [
    "Let's multiply the two matrices."
   ]
  },
  {
   "cell_type": "code",
   "execution_count": 59,
   "id": "aa16e6e3-a5cd-4418-8515-99d999fd716a",
   "metadata": {},
   "outputs": [
    {
     "data": {
      "text/plain": [
       "Operator([[1.+0.j, 0.+0.j, 0.+0.j, 0.+0.j],\n",
       "          [0.+0.j, 1.+0.j, 0.+0.j, 0.+0.j],\n",
       "          [0.+0.j, 0.+0.j, 1.+0.j, 0.+0.j],\n",
       "          [0.+0.j, 0.+0.j, 0.+0.j, 1.+0.j]],\n",
       "         input_dims=(2, 2), output_dims=(2, 2))"
      ]
     },
     "execution_count": 59,
     "metadata": {},
     "output_type": "execute_result"
    }
   ],
   "source": [
    "original_matrix*conj_matrix"
   ]
  },
  {
   "cell_type": "markdown",
   "id": "ee95158d-739f-46e8-80ab-1c34c9324f95",
   "metadata": {},
   "source": [
    "We see that it's an identity matrix"
   ]
  },
  {
   "cell_type": "markdown",
   "id": "b328fe2a-0328-48a2-bbfd-e26991ffe472",
   "metadata": {},
   "source": [
    "One last thing, let's see the diagram of the conjugate circuit"
   ]
  },
  {
   "cell_type": "code",
   "execution_count": 60,
   "id": "7db0ad5b-1d61-49d3-85fc-0c3a9d71d9b8",
   "metadata": {},
   "outputs": [
    {
     "name": "stdout",
     "output_type": "stream",
     "text": [
      "Warning: This will not work for circuits having classical registers.\n"
     ]
    },
    {
     "data": {
      "text/html": [
       "<pre style=\"word-wrap: normal;white-space: pre;background: #fff0;line-height: 1.1;font-family: &quot;Courier New&quot;,Courier,monospace\">     ┌──────────┐\n",
       "q_0: ┤0         ├\n",
       "     │          │\n",
       "q_1: ┤1 Unitary ├\n",
       "     │          │\n",
       "q_2: ┤2         ├\n",
       "     └──────────┘</pre>"
      ],
      "text/plain": [
       "     ┌──────────┐\n",
       "q_0: ┤0         ├\n",
       "     │          │\n",
       "q_1: ┤1 Unitary ├\n",
       "     │          │\n",
       "q_2: ┤2         ├\n",
       "     └──────────┘"
      ]
     },
     "execution_count": 60,
     "metadata": {},
     "output_type": "execute_result"
    }
   ],
   "source": [
    "get_conjugate_circuit(example_qasmstr).draw()"
   ]
  },
  {
   "cell_type": "markdown",
   "id": "2db22129-a31c-48bb-88c9-f914d1f25155",
   "metadata": {},
   "source": [
    "We can decompose this using \"return_decomposition=True\", but, it's not recommended as it takes a lot of time, and is not the most ideal solution."
   ]
  },
  {
   "cell_type": "code",
   "execution_count": 61,
   "id": "cd1951ff-6a07-4771-bc34-9d7a54c8aa20",
   "metadata": {},
   "outputs": [],
   "source": [
    "# get_conjugate_circuit(example_qasmstr,return_decomposition=False).draw()"
   ]
  },
  {
   "cell_type": "markdown",
   "id": "c596bbd4-ed3d-4fa1-82f8-e5c8e6ffb05b",
   "metadata": {},
   "source": [
    "---"
   ]
  },
  {
   "cell_type": "markdown",
   "id": "c6bfb47a-0bf5-41d1-9da1-1a8c0ca25068",
   "metadata": {},
   "source": [
    "Some things for further improvement:\n",
    "1. The above method does not work if there are classical registers in the circuit, since we are essentially converting the entire circuit into an operator, finding its matrix representation, taking its conjugate and then defining a unitary gate with this complex conjugate as the underlying matrix. To find the conjugate of a circuit with classical registers, one can try applying the conjugates of the gates in reverse order. This may not be the most efficient solution but it will get the work done.\n",
    "Similarly, circuits with measurements performed will not get converted to a conjugate\n"
   ]
  },
  {
   "cell_type": "code",
   "execution_count": null,
   "id": "c545e477-77d2-4df8-9422-230cdb462016",
   "metadata": {},
   "outputs": [],
   "source": []
  }
 ],
 "metadata": {
  "kernelspec": {
   "display_name": "Python 3",
   "language": "python",
   "name": "python3"
  },
  "language_info": {
   "codemirror_mode": {
    "name": "ipython",
    "version": 3
   },
   "file_extension": ".py",
   "mimetype": "text/x-python",
   "name": "python",
   "nbconvert_exporter": "python",
   "pygments_lexer": "ipython3",
   "version": "3.8.8"
  }
 },
 "nbformat": 4,
 "nbformat_minor": 5
}
